{
 "cells": [
  {
   "cell_type": "code",
   "execution_count": 1,
   "metadata": {},
   "outputs": [],
   "source": [
    "import cv2 as cv\n",
    "import numpy as np"
   ]
  },
  {
   "cell_type": "code",
   "execution_count": 2,
   "metadata": {},
   "outputs": [],
   "source": [
    "minDisparity = 16\n",
    "numDisparities = 192 - minDisparity\n",
    "blockSize = 5\n",
    "uniquenessRatio = 1\n",
    "speckleWindowSize = 3\n",
    "speckleRange = 3\n",
    "disp12MaxDiff = 200\n",
    "P1 = 600\n",
    "P2 = 2400\n",
    "\n",
    "stereo = cv.StereoSGBM_create(\n",
    "    minDisparity=minDisparity,\n",
    "    numDisparities=numDisparities,\n",
    "    blockSize=blockSize,\n",
    "    uniquenessRatio=uniquenessRatio,\n",
    "    speckleRange=speckleRange,\n",
    "    speckleWindowSize=speckleWindowSize,\n",
    "    disp12MaxDiff=disp12MaxDiff,\n",
    "    P1=P1,\n",
    "    P2=P2\n",
    ")\n",
    "\n",
    "imgL = cv.imread('../../imgs/Chapter04/4.5/color1_small.jpg')\n",
    "imgR = cv.imread('../../imgs/Chapter04/4.5/color2_small.jpg')\n"
   ]
  },
  {
   "cell_type": "code",
   "execution_count": 3,
   "metadata": {},
   "outputs": [],
   "source": [
    "def update(sliderValue=0):\n",
    "\n",
    "    try:\n",
    "        blockSize = cv.getTrackbarPos('blockSize', 'Disparity')\n",
    "        uniquenessRatio = cv.getTrackbarPos(\n",
    "            'uniquenessRatio', 'Disparity')\n",
    "        speckleWindowSize = cv.getTrackbarPos(\n",
    "            'speckleWindowSize', 'Disparity')\n",
    "        speckleRange = cv.getTrackbarPos(\n",
    "            'speckleRange', 'Disparity')\n",
    "        disp12MaxDiff = cv.getTrackbarPos(\n",
    "            'disp12MaxDiff', 'Disparity')\n",
    "    except cv.error:\n",
    "        # One or more of the sliders has not been created yet.\n",
    "        return\n",
    "\n",
    "    stereo.setBlockSize(blockSize)\n",
    "    stereo.setUniquenessRatio(uniquenessRatio)\n",
    "    stereo.setSpeckleWindowSize(speckleWindowSize)\n",
    "    stereo.setSpeckleRange(speckleRange)\n",
    "    stereo.setDisp12MaxDiff(disp12MaxDiff)\n",
    "\n",
    "    disparity = stereo.compute(\n",
    "        imgL, imgR).astype(np.float32) / 16.0\n",
    "\n",
    "    cv.imshow('Left', imgL)\n",
    "    cv.imshow('Right', imgR)\n",
    "    cv.imshow('Disparity',\n",
    "               (disparity - minDisparity) / numDisparities)\n"
   ]
  },
  {
   "cell_type": "code",
   "execution_count": 4,
   "metadata": {},
   "outputs": [],
   "source": [
    "cv.namedWindow('Disparity')\n",
    "cv.createTrackbar('blockSize', 'Disparity', blockSize, 21,\n",
    "                   update)\n",
    "cv.createTrackbar('uniquenessRatio', 'Disparity',\n",
    "                   uniquenessRatio, 50, update)\n",
    "cv.createTrackbar('speckleWindowSize', 'Disparity',\n",
    "                   speckleWindowSize, 200, update)\n",
    "cv.createTrackbar('speckleRange', 'Disparity',\n",
    "                   speckleRange, 50, update)\n",
    "cv.createTrackbar('disp12MaxDiff', 'Disparity',\n",
    "                   disp12MaxDiff, 250, update)\n",
    "\n",
    "# Initialize the disparity map. Show the disparity map and images.\n",
    "update()\n",
    "\n",
    "# Wait for the user to press any key.\n",
    "# Meanwhile, update() will be called anytime the user moves a slider.\n",
    "cv.waitKey()"
   ]
  }
 ],
 "metadata": {
  "kernelspec": {
   "display_name": "Opencv",
   "language": "python",
   "name": "python3"
  },
  "language_info": {
   "codemirror_mode": {
    "name": "ipython",
    "version": 3
   },
   "file_extension": ".py",
   "mimetype": "text/x-python",
   "name": "python",
   "nbconvert_exporter": "python",
   "pygments_lexer": "ipython3",
   "version": "3.9.16"
  },
  "orig_nbformat": 4
 },
 "nbformat": 4,
 "nbformat_minor": 2
}
