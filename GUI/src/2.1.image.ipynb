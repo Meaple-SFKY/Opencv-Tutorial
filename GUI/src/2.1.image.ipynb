{
 "cells": [
  {
   "attachments": {},
   "cell_type": "markdown",
   "metadata": {},
   "source": [
    "# 2.1 基本I/O"
   ]
  },
  {
   "cell_type": "code",
   "execution_count": 1,
   "metadata": {},
   "outputs": [],
   "source": [
    "import numpy as np\n",
    "import cv2 as cv"
   ]
  },
  {
   "attachments": {},
   "cell_type": "markdown",
   "metadata": {},
   "source": [
    "## 读写图像文件\n",
    "- 'cvtColor'转换维度（对应图像格式）"
   ]
  },
  {
   "cell_type": "code",
   "execution_count": 2,
   "metadata": {},
   "outputs": [
    {
     "data": {
      "text/plain": [
       "True"
      ]
     },
     "execution_count": 2,
     "metadata": {},
     "output_type": "execute_result"
    }
   ],
   "source": [
    "img = np.zeros((10, 10), dtype=np.uint8)\n",
    "img = cv.cvtColor(img, cv.COLOR_GRAY2BGR)\n",
    "\n",
    "# print(img)\n",
    "cv.imwrite('../imgs/2.1/empty.jpg', img)"
   ]
  },
  {
   "cell_type": "code",
   "execution_count": 3,
   "metadata": {},
   "outputs": [
    {
     "data": {
      "text/plain": [
       "True"
      ]
     },
     "execution_count": 3,
     "metadata": {},
     "output_type": "execute_result"
    }
   ],
   "source": [
    "grayImage = cv.imread('../imgs/Snipaste.png', cv.IMREAD_GRAYSCALE)\n",
    "\n",
    "cv.imwrite('../imgs/2.1/gray.jpg', grayImage)"
   ]
  },
  {
   "cell_type": "code",
   "execution_count": 4,
   "metadata": {},
   "outputs": [
    {
     "data": {
      "text/plain": [
       "True"
      ]
     },
     "execution_count": 4,
     "metadata": {},
     "output_type": "execute_result"
    }
   ],
   "source": [
    "bgrImage = cv.imread('../imgs/Snipaste.png', cv.IMREAD_UNCHANGED)\n",
    "cv.imwrite('../imgs/2.1/bgr.jpg', bgrImage)"
   ]
  },
  {
   "attachments": {},
   "cell_type": "markdown",
   "metadata": {},
   "source": [
    "## 图像与字节之间的转换\n",
    "- 'bytearray'与'reshape'"
   ]
  },
  {
   "cell_type": "code",
   "execution_count": 5,
   "metadata": {},
   "outputs": [
    {
     "data": {
      "text/plain": [
       "True"
      ]
     },
     "execution_count": 5,
     "metadata": {},
     "output_type": "execute_result"
    }
   ],
   "source": [
    "grayShape = grayImage.shape\n",
    "grayByteArray = bytearray(grayImage)\n",
    "grayByteImage = np.array(grayByteArray).reshape(grayShape)\n",
    "cv.imwrite('../imgs/2.1/grayByteImage.jpg', grayByteImage)"
   ]
  },
  {
   "cell_type": "code",
   "execution_count": 7,
   "metadata": {},
   "outputs": [
    {
     "data": {
      "text/plain": [
       "True"
      ]
     },
     "execution_count": 7,
     "metadata": {},
     "output_type": "execute_result"
    }
   ],
   "source": [
    "bgrShape = bgrImage.shape\n",
    "bgrByteArray = bytearray(bgrImage)\n",
    "bgrByteImage = np.array(bgrByteArray).reshape(bgrShape)\n",
    "cv.imwrite('../imgs/2.1/bgrByteImage.jpg', bgrByteImage)"
   ]
  },
  {
   "attachments": {},
   "cell_type": "markdown",
   "metadata": {},
   "source": [
    "### 随机字节的'bytearray'与灰度图像和bgr的转换"
   ]
  },
  {
   "cell_type": "code",
   "execution_count": 8,
   "metadata": {},
   "outputs": [
    {
     "name": "stdout",
     "output_type": "stream",
     "text": [
      "(90000,)\n"
     ]
    }
   ],
   "source": [
    "import os\n",
    "\n",
    "randomByteArray = bytearray(os.urandom(90000))\n",
    "flatNpArray = np.array(randomByteArray)\n",
    "print(flatNpArray.shape)"
   ]
  },
  {
   "cell_type": "code",
   "execution_count": 9,
   "metadata": {},
   "outputs": [
    {
     "data": {
      "text/plain": [
       "True"
      ]
     },
     "execution_count": 9,
     "metadata": {},
     "output_type": "execute_result"
    }
   ],
   "source": [
    "grayRandomImage = flatNpArray.reshape(300, 300)\n",
    "cv.imwrite('../imgs/2.1/RandomGray.png', grayRandomImage)"
   ]
  },
  {
   "cell_type": "code",
   "execution_count": 10,
   "metadata": {},
   "outputs": [
    {
     "data": {
      "text/plain": [
       "True"
      ]
     },
     "execution_count": 10,
     "metadata": {},
     "output_type": "execute_result"
    }
   ],
   "source": [
    "bgrRandomImage = flatNpArray.reshape(100, 300, 3)\n",
    "cv.imwrite('../imgs/2.1/RandomBgr.png', bgrRandomImage)"
   ]
  }
 ],
 "metadata": {
  "kernelspec": {
   "display_name": "Opencv",
   "language": "python",
   "name": "python3"
  },
  "language_info": {
   "codemirror_mode": {
    "name": "ipython",
    "version": 3
   },
   "file_extension": ".py",
   "mimetype": "text/x-python",
   "name": "python",
   "nbconvert_exporter": "python",
   "pygments_lexer": "ipython3",
   "version": "3.9.16"
  },
  "orig_nbformat": 4
 },
 "nbformat": 4,
 "nbformat_minor": 2
}
