{
 "cells": [
  {
   "attachments": {},
   "cell_type": "markdown",
   "metadata": {},
   "source": [
    "# 2.1 基本I/O"
   ]
  },
  {
   "cell_type": "code",
   "execution_count": 1,
   "metadata": {},
   "outputs": [],
   "source": [
    "import numpy as np\n",
    "import cv2 as cv"
   ]
  },
  {
   "attachments": {},
   "cell_type": "markdown",
   "metadata": {},
   "source": [
    "## 读写图像文件\n",
    "- cvtColor转换维度（对应图像格式）"
   ]
  },
  {
   "cell_type": "code",
   "execution_count": 2,
   "metadata": {},
   "outputs": [
    {
     "data": {
      "text/plain": [
       "True"
      ]
     },
     "execution_count": 2,
     "metadata": {},
     "output_type": "execute_result"
    }
   ],
   "source": [
    "img = np.zeros((10, 10), dtype=np.uint8)\n",
    "img = cv.cvtColor(img, cv.COLOR_GRAY2BGR)\n",
    "\n",
    "# print(img)\n",
    "cv.imwrite('../imgs/2.1/empty.jpg', img)"
   ]
  },
  {
   "cell_type": "code",
   "execution_count": 3,
   "metadata": {},
   "outputs": [
    {
     "data": {
      "text/plain": [
       "True"
      ]
     },
     "execution_count": 3,
     "metadata": {},
     "output_type": "execute_result"
    }
   ],
   "source": [
    "grayImage = cv.imread('../imgs/Snipaste.png', cv.IMREAD_GRAYSCALE)\n",
    "\n",
    "cv.imwrite('../imgs/2.1/gray.jpg', grayImage)"
   ]
  },
  {
   "cell_type": "code",
   "execution_count": 4,
   "metadata": {},
   "outputs": [
    {
     "data": {
      "text/plain": [
       "True"
      ]
     },
     "execution_count": 4,
     "metadata": {},
     "output_type": "execute_result"
    }
   ],
   "source": [
    "bgrImage = cv.imread('../imgs/Snipaste.png', cv.IMREAD_UNCHANGED)\n",
    "cv.imwrite('../imgs/2.1/bgr.jpg', bgrImage)"
   ]
  },
  {
   "attachments": {},
   "cell_type": "markdown",
   "metadata": {},
   "source": [
    "## 图像与字节之间的转换\n",
    "- bytearray与reshape"
   ]
  },
  {
   "cell_type": "code",
   "execution_count": 5,
   "metadata": {},
   "outputs": [
    {
     "data": {
      "text/plain": [
       "True"
      ]
     },
     "execution_count": 5,
     "metadata": {},
     "output_type": "execute_result"
    }
   ],
   "source": [
    "grayShape = grayImage.shape\n",
    "grayByteArray = bytearray(grayImage)\n",
    "grayByteImage = np.array(grayByteArray).reshape(grayShape)\n",
    "cv.imwrite('../imgs/2.1/grayByteImage.jpg', grayByteImage)"
   ]
  },
  {
   "cell_type": "code",
   "execution_count": 7,
   "metadata": {},
   "outputs": [
    {
     "data": {
      "text/plain": [
       "True"
      ]
     },
     "execution_count": 7,
     "metadata": {},
     "output_type": "execute_result"
    }
   ],
   "source": [
    "bgrShape = bgrImage.shape\n",
    "bgrByteArray = bytearray(bgrImage)\n",
    "bgrByteImage = np.array(bgrByteArray).reshape(bgrShape)\n",
    "cv.imwrite('../imgs/2.1/bgrByteImage.jpg', bgrByteImage)"
   ]
  },
  {
   "attachments": {},
   "cell_type": "markdown",
   "metadata": {},
   "source": [
    "### eg：随机字节的'bytearray'与灰度图像和bgr的转换"
   ]
  },
  {
   "cell_type": "code",
   "execution_count": 8,
   "metadata": {},
   "outputs": [
    {
     "name": "stdout",
     "output_type": "stream",
     "text": [
      "(90000,)\n"
     ]
    }
   ],
   "source": [
    "import os\n",
    "\n",
    "randomByteArray = bytearray(os.urandom(90000))\n",
    "flatNpArray = np.array(randomByteArray)\n",
    "print(flatNpArray.shape)"
   ]
  },
  {
   "cell_type": "code",
   "execution_count": 9,
   "metadata": {},
   "outputs": [
    {
     "data": {
      "text/plain": [
       "True"
      ]
     },
     "execution_count": 9,
     "metadata": {},
     "output_type": "execute_result"
    }
   ],
   "source": [
    "grayRandomImage = flatNpArray.reshape(300, 300)\n",
    "cv.imwrite('../imgs/2.1/RandomGray.png', grayRandomImage)"
   ]
  },
  {
   "cell_type": "code",
   "execution_count": 10,
   "metadata": {},
   "outputs": [
    {
     "data": {
      "text/plain": [
       "True"
      ]
     },
     "execution_count": 10,
     "metadata": {},
     "output_type": "execute_result"
    }
   ],
   "source": [
    "bgrRandomImage = flatNpArray.reshape(100, 300, 3)\n",
    "cv.imwrite('../imgs/2.1/RandomBgr.png', bgrRandomImage)"
   ]
  },
  {
   "attachments": {},
   "cell_type": "markdown",
   "metadata": {},
   "source": [
    "- numpy.array访问数据"
   ]
  },
  {
   "cell_type": "code",
   "execution_count": 4,
   "metadata": {},
   "outputs": [
    {
     "data": {
      "text/plain": [
       "True"
      ]
     },
     "execution_count": 4,
     "metadata": {},
     "output_type": "execute_result"
    }
   ],
   "source": [
    "img = cv.imread('../imgs/2.1/empty.jpg')\n",
    "img[0, 0] = [255, 255, 255]\n",
    "cv.imwrite('../imgs/2.1/white.jpg', img)"
   ]
  },
  {
   "cell_type": "code",
   "execution_count": 8,
   "metadata": {},
   "outputs": [
    {
     "data": {
      "text/plain": [
       "True"
      ]
     },
     "execution_count": 8,
     "metadata": {},
     "output_type": "execute_result"
    }
   ],
   "source": [
    "img = cv.imread('../imgs/2.1/empty.jpg')\n",
    "img.itemset((0, 0, 0), 255)\n",
    "img.itemset((0, 0, 1), 255)\n",
    "img.itemset((0, 0, 2), 255)\n",
    "cv.imwrite('../imgs/2.1/setWhite.jpg', img)"
   ]
  },
  {
   "cell_type": "code",
   "execution_count": 8,
   "metadata": {},
   "outputs": [
    {
     "data": {
      "text/plain": [
       "True"
      ]
     },
     "execution_count": 8,
     "metadata": {},
     "output_type": "execute_result"
    }
   ],
   "source": [
    "img = cv.imread('../imgs/2.1/empty.jpg')\n",
    "img[0, :, :] = 255\n",
    "cv.imwrite('../imgs/2.1/lineWhite.jpg', img)"
   ]
  },
  {
   "cell_type": "code",
   "execution_count": 9,
   "metadata": {},
   "outputs": [
    {
     "name": "stdout",
     "output_type": "stream",
     "text": [
      "(10, 10, 3)\n",
      "300\n",
      "uint8\n"
     ]
    }
   ],
   "source": [
    "print(img.shape)\n",
    "print(img.size)\n",
    "print(img.dtype)"
   ]
  },
  {
   "attachments": {},
   "cell_type": "markdown",
   "metadata": {},
   "source": [
    "## 视频文件的读写"
   ]
  },
  {
   "attachments": {},
   "cell_type": "markdown",
   "metadata": {},
   "source": [
    "编解码器cv.Video_Writer_fourcc\n",
    "\n",
    "('I', '4', '2'. '0'): YUV编码，兼容性好，文件大，avi\n",
    "\n",
    "('P', 'I', 'M', 'l'): MPEG-1编码，avi\n",
    "\n",
    "('X', 'V', 'I', 'D')：MPEG-4编码，avi\n",
    "\n",
    "('T', 'H', 'E', 'O')：Ogg Verbis， ogv\n",
    "\n",
    "('F', 'L', 'V', 'L')：Flash，flv"
   ]
  },
  {
   "cell_type": "code",
   "execution_count": 2,
   "metadata": {},
   "outputs": [
    {
     "name": "stdout",
     "output_type": "stream",
     "text": [
      "(640, 480)\n"
     ]
    }
   ],
   "source": [
    "videocapture = cv.VideoCapture('../videos/2.1/MyInputVid.avi') # 也可传入设备索引，捕获摄像头的帧\n",
    "fps = videocapture.get(cv.CAP_PROP_FPS) # get方法无法返回摄像头的帧\n",
    "size = (int(videocapture.get(cv.CAP_PROP_FRAME_WIDTH)), int(videocapture.get(cv.CAP_PROP_FRAME_HEIGHT)))\n",
    "print(size)\n",
    "videoWriter = cv.VideoWriter(\n",
    "    '../videos/2.1/MyOutputVid.avi', cv.VideoWriter_fourcc('P', 'I', 'M', 'l'), fps, size)\n",
    "\n",
    "success, frame = videocapture.read()\n",
    "cv.imshow('image', frame)\n",
    "cv.waitKey()\n",
    "cv.destroyAllWindows()\n",
    "while success:\n",
    "    videoWriter.write(frame)\n",
    "    success, frame = videocapture.read()"
   ]
  },
  {
   "attachments": {},
   "cell_type": "markdown",
   "metadata": {},
   "source": [
    "### 在窗口显示图像"
   ]
  },
  {
   "cell_type": "code",
   "execution_count": 2,
   "metadata": {},
   "outputs": [],
   "source": [
    "image = cv.imread('../imgs/2.1/Snipaste.png')\n",
    "cv.imshow('image', image)\n",
    "cv.waitKey()\n",
    "cv.destroyAllWindows()"
   ]
  }
 ],
 "metadata": {
  "kernelspec": {
   "display_name": "Opencv",
   "language": "python",
   "name": "python3"
  },
  "language_info": {
   "codemirror_mode": {
    "name": "ipython",
    "version": 3
   },
   "file_extension": ".py",
   "mimetype": "text/x-python",
   "name": "python",
   "nbconvert_exporter": "python",
   "pygments_lexer": "ipython3",
   "version": "3.9.16"
  },
  "orig_nbformat": 4
 },
 "nbformat": 4,
 "nbformat_minor": 2
}
