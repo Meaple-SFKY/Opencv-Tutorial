{
 "cells": [
  {
   "cell_type": "code",
   "execution_count": 1,
   "metadata": {},
   "outputs": [],
   "source": [
    "import cv2 as cv\n",
    "import numpy as np"
   ]
  },
  {
   "cell_type": "code",
   "execution_count": 4,
   "metadata": {},
   "outputs": [
    {
     "data": {
      "text/plain": [
       "True"
      ]
     },
     "execution_count": 4,
     "metadata": {},
     "output_type": "execute_result"
    }
   ],
   "source": [
    "kernel = np.array([[0.04, 0.04, 0.04, 0.04, 0.04],\n",
    "                   [0.04, 0.04, 0.04, 0.04, 0.04],\n",
    "                   [0.04, 0.04, 0.04, 0.04, 0.04],\n",
    "                   [0.04, 0.04, 0.04, 0.04, 0.04],\n",
    "                   [0.04, 0.04, 0.04, 0.04, 0.04]])\n",
    "\n",
    "image = cv.imread('../imgs/3.2/Snipaste.png')\n",
    "dst = image\n",
    "cv.filter2D(image, -1, kernel, dst)\n",
    "\n",
    "cv.imwrite('../imgs/3.5/filter_blur.png', dst)"
   ]
  },
  {
   "cell_type": "code",
   "execution_count": 6,
   "metadata": {},
   "outputs": [
    {
     "data": {
      "text/plain": [
       "True"
      ]
     },
     "execution_count": 6,
     "metadata": {},
     "output_type": "execute_result"
    }
   ],
   "source": [
    "kernel_asymmetry = np.array([[-2, -1, 0],\n",
    "                             [-1,  1, 1],\n",
    "                             [ 0,  1, 2]])\n",
    "\n",
    "cv.filter2D(image, -1, kernel_asymmetry, dst)\n",
    "cv.imwrite('../imgs/3.5/filter_blur_.png', dst)"
   ]
  }
 ],
 "metadata": {
  "kernelspec": {
   "display_name": "Opencv",
   "language": "python",
   "name": "python3"
  },
  "language_info": {
   "codemirror_mode": {
    "name": "ipython",
    "version": 3
   },
   "file_extension": ".py",
   "mimetype": "text/x-python",
   "name": "python",
   "nbconvert_exporter": "python",
   "pygments_lexer": "ipython3",
   "version": "3.9.16"
  },
  "orig_nbformat": 4
 },
 "nbformat": 4,
 "nbformat_minor": 2
}
