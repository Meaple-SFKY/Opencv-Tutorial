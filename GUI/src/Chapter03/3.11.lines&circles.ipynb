{
 "cells": [
  {
   "cell_type": "code",
   "execution_count": 1,
   "metadata": {},
   "outputs": [],
   "source": [
    "import cv2 as cv\n",
    "import numpy as np"
   ]
  },
  {
   "cell_type": "code",
   "execution_count": 14,
   "metadata": {},
   "outputs": [
    {
     "data": {
      "text/plain": [
       "True"
      ]
     },
     "execution_count": 14,
     "metadata": {},
     "output_type": "execute_result"
    }
   ],
   "source": [
    "img = cv.imread('../../imgs/Chapter03/3.11/lines.jpg')\n",
    "gray = cv.cvtColor(img, cv.COLOR_BGR2GRAY)\n",
    "edges = cv.Canny(gray, 50, 120)\n",
    "minLineLength = 20\n",
    "maxLineGap = 5\n",
    "lines = cv.HoughLinesP(edges, 1, np.pi/180, 100, minLineLength, maxLineGap)\n",
    "for x in lines:\n",
    "    cv.line(img, (x[0][0], x[0][1]), (x[0][2], x[0][3]), (0, 255, 0), 2)\n",
    "\n",
    "\n",
    "cv.imwrite('../../imgs/Chapter03/3.11/draw_lines.png', img)\n",
    "cv.imwrite('../../imgs/Chapter03/3.11/draw_edges.png', edges)"
   ]
  },
  {
   "cell_type": "code",
   "execution_count": null,
   "metadata": {},
   "outputs": [],
   "source": [
    "planets = cv.imread('../../imgs/Chapter03/3.11/planet_glow.jpg')\n",
    "gray_planet = cv.cvtColor(planets, cv.COLOR_BGR2GRAY)\n",
    "\n"
   ]
  }
 ],
 "metadata": {
  "kernelspec": {
   "display_name": "opencv",
   "language": "python",
   "name": "python3"
  },
  "language_info": {
   "codemirror_mode": {
    "name": "ipython",
    "version": 3
   },
   "file_extension": ".py",
   "mimetype": "text/x-python",
   "name": "python",
   "nbconvert_exporter": "python",
   "pygments_lexer": "ipython3",
   "version": "3.9.0"
  },
  "orig_nbformat": 4
 },
 "nbformat": 4,
 "nbformat_minor": 2
}
