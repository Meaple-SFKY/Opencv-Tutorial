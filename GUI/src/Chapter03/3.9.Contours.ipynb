{
 "cells": [
  {
   "cell_type": "code",
   "execution_count": 1,
   "metadata": {},
   "outputs": [],
   "source": [
    "import cv2 as cv\n",
    "import numpy as np"
   ]
  },
  {
   "cell_type": "code",
   "execution_count": 2,
   "metadata": {},
   "outputs": [],
   "source": [
    "img_down = cv.pyrDown(cv.imread('../../imgs/Chapter03/3.9/hammer.jpg'))"
   ]
  },
  {
   "cell_type": "code",
   "execution_count": 3,
   "metadata": {},
   "outputs": [
    {
     "name": "stdout",
     "output_type": "stream",
     "text": [
      "1\n"
     ]
    }
   ],
   "source": [
    "ret, thresh = cv.threshold(cv.cvtColor(img_down, cv.COLOR_BGR2GRAY), \n",
    "                           127, 255, cv.THRESH_BINARY)\n",
    "\n",
    "contours, hir = cv.findContours(thresh, cv.RETR_EXTERNAL, cv.CHAIN_APPROX_SIMPLE)\n",
    "print(len(contours))"
   ]
  },
  {
   "cell_type": "code",
   "execution_count": 4,
   "metadata": {},
   "outputs": [
    {
     "data": {
      "text/plain": [
       "True"
      ]
     },
     "execution_count": 4,
     "metadata": {},
     "output_type": "execute_result"
    }
   ],
   "source": [
    "for c in contours:\n",
    "    x, y, w, h = cv.boundingRect(c)\n",
    "    cv.rectangle(img_down, (x, y), (x + w, y + h), (0, 255, 0), 2)\n",
    "    cv.imwrite('../../imgs/Chapter03/3.9/hammer_rec_.jpg', img_down)\n",
    "    \n",
    "    rect = cv.minAreaRect(c)\n",
    "    box = cv.boxPoints(rect)\n",
    "    box = np.int64(box)\n",
    "    cv.drawContours(img_down, [box], 0, (0, 0, 255), 3)\n",
    "    \n",
    "    # (x, y), radius = cv.minEnclosingCircle(c)\n",
    "    # center, radius = (int(x), int(y)), int(radius)\n",
    "    # img_down = cv.circle(img_down, center, radius, (0, 255, 0), 2)\n",
    "\n",
    "# con = cv.drawContours(img_down, contours, 0, (255, 0, 0), 1)\n",
    "\n",
    "cv.imwrite('../../imgs/Chapter03/3.9/hammer_rec.jpg', img_down)"
   ]
  },
  {
   "cell_type": "code",
   "execution_count": null,
   "metadata": {},
   "outputs": [],
   "source": [
    "import cv2 as cv\n",
    "import numpy as np"
   ]
  },
  {
   "cell_type": "code",
   "execution_count": null,
   "metadata": {},
   "outputs": [],
   "source": [
    "image = cv.imread('../../imgs/Chapter03/3.8/Snipaste.png', cv.IMREAD_GRAYSCALE)\n",
    "\n",
    "image = 255 - image\n",
    "\n",
    "\n",
    "ret, thresh = cv.threshold(image, 1, 255, cv.THRESH_BINARY)\n",
    "thresh = 255 - thresh\n",
    "\n",
    "cv.imwrite('../../imgs/Chapter03/3.8/Snipaste_Binary.png', thresh)"
   ]
  },
  {
   "cell_type": "code",
   "execution_count": null,
   "metadata": {},
   "outputs": [],
   "source": [
    "image = cv.imread('../../imgs/Chapter03/3.2/Snipaste.png')\n",
    "\n",
    "image_gray = cv.cvtColor(image, cv.COLOR_BGR2GRAY)\n",
    "\n",
    "image_color = cv.cvtColor(image_gray, cv.COLOR_GRAY2BGR)\n",
    "\n",
    "cv.imwrite('../../imgs/Chapter03/3.8/Snipaste_color.png', image_color)\n"
   ]
  }
 ],
 "metadata": {
  "kernelspec": {
   "display_name": "opencv",
   "language": "python",
   "name": "python3"
  },
  "language_info": {
   "codemirror_mode": {
    "name": "ipython",
    "version": 3
   },
   "file_extension": ".py",
   "mimetype": "text/x-python",
   "name": "python",
   "nbconvert_exporter": "python",
   "pygments_lexer": "ipython3",
   "version": "3.9.16"
  },
  "orig_nbformat": 4
 },
 "nbformat": 4,
 "nbformat_minor": 2
}
