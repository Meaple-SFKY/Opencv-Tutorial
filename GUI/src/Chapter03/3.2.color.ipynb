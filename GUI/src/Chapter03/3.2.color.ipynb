{
 "cells": [
  {
   "attachments": {},
   "cell_type": "markdown",
   "metadata": {},
   "source": [
    "# 图像处理\n",
    "\n",
    "傅里叶变换：看到的波形都是由其他波形叠加得到的，从而区分变化特别强的区域信号，标记噪声、感兴趣、前景和背景区域"
   ]
  },
  {
   "attachments": {},
   "cell_type": "markdown",
   "metadata": {},
   "source": [
    "### 高通滤波器"
   ]
  },
  {
   "cell_type": "code",
   "execution_count": 1,
   "metadata": {},
   "outputs": [],
   "source": [
    "import cv2 as cv\n",
    "import numpy as np\n",
    "from scipy import ndimage"
   ]
  },
  {
   "cell_type": "code",
   "execution_count": 2,
   "metadata": {},
   "outputs": [],
   "source": [
    "kernel_3x3 = np.array([[-1, -1, -1], \n",
    "                       [-1,  8, -1], \n",
    "                       [-1, -1, -1]])\n",
    "kernel_5x5 = np.array([[-1, -1, -1, -1, -1],\n",
    "                       [-1,  1,  2,  1, -1],\n",
    "                       [-1,  2,  4,  2, -1],\n",
    "                       [-1,  1,  2,  1, -1],\n",
    "                       [-1, -1, -1, -1, -1]])"
   ]
  },
  {
   "cell_type": "code",
   "execution_count": 3,
   "metadata": {},
   "outputs": [],
   "source": [
    "img_ori = cv.imread('../../imgs/Chapter03/3.2/Snipaste.png', cv.IMREAD_GRAYSCALE)\n",
    "\n",
    "k3 = ndimage.convolve(img_ori, kernel_3x3)\n",
    "k5 = ndimage.convolve(img_ori, kernel_5x5)\n",
    "\n",
    "blurred = cv.GaussianBlur(img_ori, (11, 11), 0)\n",
    "cv.imwrite(\"../../imgs/Chapter03/3.2/blurred.png\", blurred)\n",
    "g_hpf = img_ori - blurred"
   ]
  },
  {
   "cell_type": "code",
   "execution_count": 14,
   "metadata": {},
   "outputs": [
    {
     "name": "stdout",
     "output_type": "stream",
     "text": [
      "[[-12  -9  -6]\n",
      " [ -3   0   3]\n",
      " [  6   9  12]]\n"
     ]
    }
   ],
   "source": [
    "src = np.array([[1, 2, 3], \n",
    "                [4, 5, 6], \n",
    "                [7, 8, 9]])\n",
    "\n",
    "dst = ndimage.convolve(src, kernel_3x3)\n",
    "print(dst)"
   ]
  },
  {
   "cell_type": "code",
   "execution_count": 7,
   "metadata": {},
   "outputs": [
    {
     "data": {
      "text/plain": [
       "True"
      ]
     },
     "execution_count": 7,
     "metadata": {},
     "output_type": "execute_result"
    }
   ],
   "source": [
    "cv.imwrite(\"../../imgs/Chapter03/3.2/k3.png\", k3)\n",
    "cv.imwrite(\"../../imgs/Chapter03/3.2/k5.png\", k5)\n",
    "cv.imwrite(\"../../imgs/Chapter03/3.2/g_hpf.png\", g_hpf)"
   ]
  },
  {
   "cell_type": "code",
   "execution_count": 4,
   "metadata": {},
   "outputs": [
    {
     "data": {
      "text/plain": [
       "True"
      ]
     },
     "execution_count": 4,
     "metadata": {},
     "output_type": "execute_result"
    }
   ],
   "source": [
    "img_ori_color = cv.imread('../../imgs/Chapter03/3.2/Snipaste.png')\n",
    "kernel_3x3x3 = np.array([[[-1, -1, -1], [-1, 8, -1], [-1, -1, -1]],\n",
    "                       [[-1, -1, -1], [-1, 8, -1], [-1, -1, -1]],\n",
    "                       [[-1, -1, -1], [-1, 8, -1], [-1, -1, -1]]])\n",
    "k3_color = ndimage.convolve(img_ori_color, kernel_3x3x3)\n",
    "\n",
    "cv.imwrite(\"../../imgs/Chapter03/3.2/k3_color.png\", k3_color)"
   ]
  },
  {
   "cell_type": "code",
   "execution_count": 6,
   "metadata": {},
   "outputs": [
    {
     "data": {
      "text/plain": [
       "True"
      ]
     },
     "execution_count": 6,
     "metadata": {},
     "output_type": "execute_result"
    }
   ],
   "source": [
    "blurred_color = cv.GaussianBlur(img_ori_color, (11, 11), 0)\n",
    "g_hpf_color = img_ori_color - blurred_color\n",
    "cv.imwrite(\"../../imgs/Chapter03/3.2/g_hpf_color.png\", g_hpf_color)"
   ]
  }
 ],
 "metadata": {
  "kernelspec": {
   "display_name": "Opencv",
   "language": "python",
   "name": "python3"
  },
  "language_info": {
   "codemirror_mode": {
    "name": "ipython",
    "version": 3
   },
   "file_extension": ".py",
   "mimetype": "text/x-python",
   "name": "python",
   "nbconvert_exporter": "python",
   "pygments_lexer": "ipython3",
   "version": "3.9.16"
  },
  "orig_nbformat": 4
 },
 "nbformat": 4,
 "nbformat_minor": 2
}
