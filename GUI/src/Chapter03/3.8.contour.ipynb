{
 "cells": [
  {
   "cell_type": "code",
   "execution_count": 7,
   "metadata": {},
   "outputs": [],
   "source": [
    "import cv2 as cv\n",
    "import numpy as np"
   ]
  },
  {
   "cell_type": "code",
   "execution_count": 8,
   "metadata": {},
   "outputs": [
    {
     "data": {
      "text/plain": [
       "True"
      ]
     },
     "execution_count": 8,
     "metadata": {},
     "output_type": "execute_result"
    }
   ],
   "source": [
    "img = np.zeros((200, 200), dtype=np.uint8)\n",
    "img[50:150, 50:150] = 128\n",
    "\n",
    "cv.imwrite('../../imgs/Chapter03/3.8/rectangle.png', img)"
   ]
  },
  {
   "cell_type": "code",
   "execution_count": 9,
   "metadata": {},
   "outputs": [
    {
     "data": {
      "text/plain": [
       "True"
      ]
     },
     "execution_count": 9,
     "metadata": {},
     "output_type": "execute_result"
    }
   ],
   "source": [
    "ret, thresh = cv.threshold(img, 127, 255, cv.THRESH_BINARY)\n",
    "cv.imwrite('../../imgs/Chapter03/3.8/thresh.png', thresh)"
   ]
  },
  {
   "cell_type": "code",
   "execution_count": 10,
   "metadata": {},
   "outputs": [
    {
     "data": {
      "text/plain": [
       "True"
      ]
     },
     "execution_count": 10,
     "metadata": {},
     "output_type": "execute_result"
    }
   ],
   "source": [
    "contours, hir = cv.findContours(thresh, cv.RETR_TREE, cv.CHAIN_APPROX_SIMPLE) # 函数会修改图像\n",
    "\n",
    "color = cv.cvtColor(img, cv.COLOR_GRAY2BGR)\n",
    "img = cv.drawContours(color, contours, -1, (0, 255, 0), 2)\n",
    "cv.imwrite('../../imgs/Chapter03/3.8/contours.png', img)"
   ]
  },
  {
   "cell_type": "code",
   "execution_count": 11,
   "metadata": {},
   "outputs": [],
   "source": [
    "import cv2 as cv\n",
    "import numpy as np"
   ]
  },
  {
   "cell_type": "code",
   "execution_count": 12,
   "metadata": {},
   "outputs": [
    {
     "name": "stdout",
     "output_type": "stream",
     "text": [
      "40.0\n"
     ]
    },
    {
     "data": {
      "text/plain": [
       "True"
      ]
     },
     "execution_count": 12,
     "metadata": {},
     "output_type": "execute_result"
    }
   ],
   "source": [
    "image = cv.imread('../../imgs/Chapter03/3.2/Snipaste.png', cv.IMREAD_GRAYSCALE)\n",
    "\n",
    "ret, thresh = cv.threshold(image, 40, 255, cv.THRESH_BINARY)\n",
    "print(ret)\n",
    "contours, hir = cv.findContours(thresh, cv.RETR_TREE, cv.CHAIN_APPROX_SIMPLE)\n",
    "color = cv.cvtColor(image, cv.COLOR_GRAY2BGR)\n",
    "image = cv.drawContours(color, contours, -1, (255, 0, 0), 2)\n",
    "cv.imwrite('../../imgs/Chapter03/3.8/myContours.png', image)"
   ]
  }
 ],
 "metadata": {
  "kernelspec": {
   "display_name": "Opencv",
   "language": "python",
   "name": "python3"
  },
  "language_info": {
   "codemirror_mode": {
    "name": "ipython",
    "version": 3
   },
   "file_extension": ".py",
   "mimetype": "text/x-python",
   "name": "python",
   "nbconvert_exporter": "python",
   "pygments_lexer": "ipython3",
   "version": "3.9.16"
  },
  "orig_nbformat": 4
 },
 "nbformat": 4,
 "nbformat_minor": 2
}
