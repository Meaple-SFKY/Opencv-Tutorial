{
 "cells": [
  {
   "cell_type": "code",
   "execution_count": 1,
   "metadata": {},
   "outputs": [],
   "source": [
    "import cv2 as cv\n",
    "import numpy as np"
   ]
  },
  {
   "cell_type": "code",
   "execution_count": 5,
   "metadata": {},
   "outputs": [],
   "source": [
    "planets = cv.imread('../../imgs/Chapter03/3.11/planet_glow.jpg')\n",
    "gray = cv.cvtColor(planets, cv.COLOR_BGR2GRAY)\n",
    "\n",
    "img = cv.medianBlur(gray, 5)\n",
    "\n",
    "circles = cv.HoughCircles(img, cv.HOUGH_GRADIENT, 1, 120, param1=90, param2=50, minRadius=0, maxRadius=0)\n",
    "circles = np.uint16(np.around(circles))"
   ]
  },
  {
   "cell_type": "code",
   "execution_count": 6,
   "metadata": {},
   "outputs": [
    {
     "name": "stdout",
     "output_type": "stream",
     "text": [
      "[480  80  72]\n",
      "[516 234  71]\n",
      "[332 224  61]\n",
      "[326 370  73]\n",
      "[128 228  64]\n",
      "[300  84  74]\n",
      "[142  82  67]\n"
     ]
    },
    {
     "data": {
      "text/plain": [
       "True"
      ]
     },
     "execution_count": 6,
     "metadata": {},
     "output_type": "execute_result"
    }
   ],
   "source": [
    "for i in circles[0, :]:\n",
    "    cv.circle(planets, (i[0], i[1]), i[2], (0, 255, 0), 2)\n",
    "    cv.circle(planets, (i[0], i[1]), 2, (0, 0, 255), 3)\n",
    "    print(i)\n",
    "    \n",
    "cv.imwrite('../../imgs/Chapter03/3.11/Circle.png', planets)"
   ]
  }
 ],
 "metadata": {
  "kernelspec": {
   "display_name": "opencv",
   "language": "python",
   "name": "python3"
  },
  "language_info": {
   "codemirror_mode": {
    "name": "ipython",
    "version": 3
   },
   "file_extension": ".py",
   "mimetype": "text/x-python",
   "name": "python",
   "nbconvert_exporter": "python",
   "pygments_lexer": "ipython3",
   "version": "3.9.16"
  },
  "orig_nbformat": 4
 },
 "nbformat": 4,
 "nbformat_minor": 2
}
