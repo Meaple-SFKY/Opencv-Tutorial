{
 "cells": [
  {
   "cell_type": "code",
   "execution_count": 1,
   "metadata": {},
   "outputs": [],
   "source": [
    "import cv2 as cv\n",
    "import numpy as np"
   ]
  },
  {
   "cell_type": "code",
   "execution_count": 11,
   "metadata": {},
   "outputs": [],
   "source": [
    "img = cv.imread('../../imgs/Chapter03/3.9/hammer.jpg', cv.IMREAD_GRAYSCALE)\n",
    "image = cv.pyrDown(img)"
   ]
  },
  {
   "cell_type": "code",
   "execution_count": 17,
   "metadata": {},
   "outputs": [
    {
     "data": {
      "text/plain": [
       "True"
      ]
     },
     "execution_count": 17,
     "metadata": {},
     "output_type": "execute_result"
    }
   ],
   "source": [
    "ret, thresh = cv.threshold(image, 127, 255, cv.THRESH_BINARY)\n",
    "contours, _ = cv.findContours(thresh, cv.RETR_EXTERNAL, cv.CHAIN_APPROX_SIMPLE)\n",
    "empty = np.zeros_like(image)\n",
    "cv.imwrite('../../imgs/Chapter03/3.10/empty.png', empty)\n",
    "\n",
    "for cnt in contours:\n",
    "    epsilon = 0.01 * cv.arcLength(cnt, True)\n",
    "    approx = cv.approxPolyDP(cnt, epsilon, True)\n",
    "    hull = cv.convexHull(cnt)\n",
    "    \n",
    "    cv.drawContours(empty, [cnt], -1, (255, 0, 0), 2)\n",
    "    cv.drawContours(empty, [approx], -1, (255, 255, 0), 2)\n",
    "    cv.drawContours(empty, [hull], -1, (255, 255, 255), 2)\n",
    "\n",
    "cv.imwrite('../../imgs/Chapter03/3.10/hul.png', empty)"
   ]
  }
 ],
 "metadata": {
  "kernelspec": {
   "display_name": "opencv",
   "language": "python",
   "name": "python3"
  },
  "language_info": {
   "codemirror_mode": {
    "name": "ipython",
    "version": 3
   },
   "file_extension": ".py",
   "mimetype": "text/x-python",
   "name": "python",
   "nbconvert_exporter": "python",
   "pygments_lexer": "ipython3",
   "version": "3.9.16"
  },
  "orig_nbformat": 4
 },
 "nbformat": 4,
 "nbformat_minor": 2
}
