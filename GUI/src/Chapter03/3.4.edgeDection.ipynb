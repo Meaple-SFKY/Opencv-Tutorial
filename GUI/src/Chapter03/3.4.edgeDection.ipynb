{
 "cells": [
  {
   "attachments": {},
   "cell_type": "markdown",
   "metadata": {},
   "source": [
    "# 3.4 边缘检测"
   ]
  },
  {
   "cell_type": "code",
   "execution_count": 1,
   "metadata": {},
   "outputs": [],
   "source": [
    "import cv2 as cv"
   ]
  },
  {
   "attachments": {},
   "cell_type": "markdown",
   "metadata": {},
   "source": [
    "步骤：\n",
    "1. 模糊，可选（medianBlur）\n",
    "2. 获取单通道灰度图像\n",
    "3. 拉普拉斯或其他算子，将非边缘区域转为灰色\n",
    "4. 归一化，黑白色反转\n",
    "5. 乘以源图像，时期边缘变黑"
   ]
  },
  {
   "cell_type": "code",
   "execution_count": 2,
   "metadata": {},
   "outputs": [],
   "source": [
    "def strokeEdges(src, dst, blurKsize=7, edgeKsize=5):\n",
    "    if blurKsize >= 3:\n",
    "        blurredSrc = cv.medianBlur(src, blurKsize)\n",
    "        graySrc = cv.cvtColor(blurredSrc, cv.COLOR_BGR2GRAY)\n",
    "    else:\n",
    "        graySrc = cv.cvtColor(src, cv.COLOR_BGR2GRAY)\n",
    "    cv.Laplacian(graySrc, cv.CV_8U, graySrc, ksize = edgeKsize)\n",
    "    cv.imwrite('../../imgs/Chapter03/3.8/Snipaste.png', graySrc)\n",
    "    normalizedInverseAlpha = (1.0 / 255) * (255 - graySrc)\n",
    "    channels = cv.split(src)\n",
    "    for channel in channels:\n",
    "        channel[:] = channel * normalizedInverseAlpha\n",
    "    cv.merge(channels, dst)"
   ]
  },
  {
   "cell_type": "code",
   "execution_count": 3,
   "metadata": {},
   "outputs": [
    {
     "data": {
      "text/plain": [
       "True"
      ]
     },
     "execution_count": 3,
     "metadata": {},
     "output_type": "execute_result"
    }
   ],
   "source": [
    "img = cv.imread('../../imgs/Chapter03/3.2/Snipaste.png')\n",
    "\n",
    "dst = img\n",
    "strokeEdges(img, dst)\n",
    "cv.imwrite('../../imgs/Chapter03/3.4/Stroke.png', dst)"
   ]
  }
 ],
 "metadata": {
  "kernelspec": {
   "display_name": "Opencv",
   "language": "python",
   "name": "python3"
  },
  "language_info": {
   "codemirror_mode": {
    "name": "ipython",
    "version": 3
   },
   "file_extension": ".py",
   "mimetype": "text/x-python",
   "name": "python",
   "nbconvert_exporter": "python",
   "pygments_lexer": "ipython3",
   "version": "3.9.16"
  },
  "orig_nbformat": 4
 },
 "nbformat": 4,
 "nbformat_minor": 2
}
